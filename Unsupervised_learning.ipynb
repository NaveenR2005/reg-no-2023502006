{
  "nbformat": 4,
  "nbformat_minor": 0,
  "metadata": {
    "colab": {
      "provenance": [],
      "authorship_tag": "ABX9TyMNOOPKRz8IhZVsuWcJjqyN",
      "include_colab_link": true
    },
    "kernelspec": {
      "name": "python3",
      "display_name": "Python 3"
    },
    "language_info": {
      "name": "python"
    }
  },
  "cells": [
    {
      "cell_type": "markdown",
      "metadata": {
        "id": "view-in-github",
        "colab_type": "text"
      },
      "source": [
        "<a href=\"https://colab.research.google.com/github/NaveenR2005/reg-no-2023502006/blob/main/Unsupervised_learning.ipynb\" target=\"_parent\"><img src=\"https://colab.research.google.com/assets/colab-badge.svg\" alt=\"Open In Colab\"/></a>"
      ]
    },
    {
      "cell_type": "code",
      "source": [
        "# Install required packages\n",
        "!pip install -q gradio scikit-learn matplotlib pandas\n",
        "\n",
        "import gradio as gr\n",
        "import pandas as pd\n",
        "import matplotlib.pyplot as plt\n",
        "from sklearn.cluster import KMeans\n",
        "from sklearn.preprocessing import StandardScaler\n",
        "from sklearn.decomposition import PCA\n",
        "import numpy as np\n",
        "\n",
        "# Load synthetic Mall Customers dataset\n",
        "def load_data():\n",
        "    data = {\n",
        "        'CustomerID': range(1, 201),\n",
        "        'Gender': ['Male', 'Female']*100,\n",
        "        'Age': np.random.randint(18, 70, size=200),\n",
        "        'Annual Income (k$)': np.random.randint(15, 137, size=200),\n",
        "        'Spending Score (1-100)': np.random.randint(1, 101, size=200)\n",
        "    }\n",
        "    df = pd.DataFrame(data)\n",
        "    df['Gender'] = df['Gender'].map({'Male':0, 'Female':1})  # encode gender\n",
        "    return df\n",
        "\n",
        "df = load_data()\n",
        "\n",
        "def kmeans_cluster(n_clusters):\n",
        "    X = df[['Gender', 'Age', 'Annual Income (k$)', 'Spending Score (1-100)']]\n",
        "\n",
        "    scaler = StandardScaler()\n",
        "    X_scaled = scaler.fit_transform(X)\n",
        "\n",
        "    kmeans = KMeans(n_clusters=n_clusters, random_state=42)\n",
        "    clusters = kmeans.fit_predict(X_scaled)\n",
        "\n",
        "    df_result = df.copy()\n",
        "    df_result['Cluster'] = clusters\n",
        "\n",
        "    # PCA for visualization\n",
        "    pca = PCA(n_components=2)\n",
        "    components = pca.fit_transform(X_scaled)\n",
        "\n",
        "    fig, ax = plt.subplots(figsize=(7,5))\n",
        "    scatter = ax.scatter(components[:,0], components[:,1], c=clusters, cmap='tab10')\n",
        "    legend1 = ax.legend(*scatter.legend_elements(), title=\"Clusters\")\n",
        "    ax.add_artist(legend1)\n",
        "    ax.set_xlabel(\"PCA Component 1\")\n",
        "    ax.set_ylabel(\"PCA Component 2\")\n",
        "    ax.set_title(f\"K-Means Clustering with {n_clusters} Clusters\")\n",
        "    plt.tight_layout()\n",
        "\n",
        "    cluster_summary = df_result.groupby('Cluster').agg({\n",
        "        'Age': ['mean', 'count'],\n",
        "        'Annual Income (k$)': 'mean',\n",
        "        'Spending Score (1-100)': 'mean'\n",
        "    }).round(1)\n",
        "    cluster_summary.columns = ['Age Mean', 'Count', 'Income Mean', 'Spending Score Mean']\n",
        "    cluster_summary = cluster_summary.reset_index()\n",
        "\n",
        "    return cluster_summary, fig\n",
        "\n",
        "iface = gr.Interface(\n",
        "    fn=kmeans_cluster,\n",
        "    inputs=gr.Slider(2, 10, step=1, label=\"Number of Clusters\"),\n",
        "    outputs=[gr.Dataframe(label=\"Cluster Summary\"), gr.Plot(label=\"Cluster Visualization\")],\n",
        "    title=\"Customer Segmentation with K-Means Clustering\",\n",
        "    description=\"Choose the number of clusters to segment customers based on demographics and spending.\"\n",
        ")\n",
        "\n",
        "iface.launch(share=True, debug=True)\n"
      ],
      "metadata": {
        "colab": {
          "base_uri": "https://localhost:8080/",
          "height": 663
        },
        "id": "sPYNvsWXOWeA",
        "outputId": "88b9514a-46bc-4ddf-ed2f-cfbc30eaa82e"
      },
      "execution_count": 2,
      "outputs": [
        {
          "output_type": "stream",
          "name": "stdout",
          "text": [
            "Colab notebook detected. This cell will run indefinitely so that you can see errors and logs. To turn off, set debug=False in launch().\n",
            "* Running on public URL: https://4c5f296f277a26cbfa.gradio.live\n",
            "\n",
            "This share link expires in 1 week. For free permanent hosting and GPU upgrades, run `gradio deploy` from the terminal in the working directory to deploy to Hugging Face Spaces (https://huggingface.co/spaces)\n"
          ]
        },
        {
          "output_type": "display_data",
          "data": {
            "text/plain": [
              "<IPython.core.display.HTML object>"
            ],
            "text/html": [
              "<div><iframe src=\"https://4c5f296f277a26cbfa.gradio.live\" width=\"100%\" height=\"500\" allow=\"autoplay; camera; microphone; clipboard-read; clipboard-write;\" frameborder=\"0\" allowfullscreen></iframe></div>"
            ]
          },
          "metadata": {}
        },
        {
          "output_type": "stream",
          "name": "stdout",
          "text": [
            "Keyboard interruption in main thread... closing server.\n",
            "Killing tunnel 127.0.0.1:7860 <> https://7539695a8893ae5356.gradio.live\n",
            "Killing tunnel 127.0.0.1:7861 <> https://4c5f296f277a26cbfa.gradio.live\n"
          ]
        },
        {
          "output_type": "execute_result",
          "data": {
            "text/plain": []
          },
          "metadata": {},
          "execution_count": 2
        }
      ]
    }
  ]
}