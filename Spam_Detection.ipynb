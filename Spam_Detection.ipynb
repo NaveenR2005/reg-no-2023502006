{
  "nbformat": 4,
  "nbformat_minor": 0,
  "metadata": {
    "colab": {
      "provenance": [],
      "authorship_tag": "ABX9TyNx/zcHjcu0SwK97mQnT7lv",
      "include_colab_link": true
    },
    "kernelspec": {
      "name": "python3",
      "display_name": "Python 3"
    },
    "language_info": {
      "name": "python"
    }
  },
  "cells": [
    {
      "cell_type": "markdown",
      "metadata": {
        "id": "view-in-github",
        "colab_type": "text"
      },
      "source": [
        "<a href=\"https://colab.research.google.com/github/NaveenR2005/reg-no-2023502006/blob/main/Spam_Detection.ipynb\" target=\"_parent\"><img src=\"https://colab.research.google.com/assets/colab-badge.svg\" alt=\"Open In Colab\"/></a>"
      ]
    },
    {
      "cell_type": "code",
      "source": [
        "# Install required libraries\n",
        "!pip install -q gradio scikit-learn torch\n",
        "\n",
        "import gradio as gr\n",
        "import torch\n",
        "import torch.nn as nn\n",
        "import torch.optim as optim\n",
        "from sklearn.feature_extraction.text import CountVectorizer\n",
        "from sklearn.model_selection import train_test_split\n",
        "import pandas as pd\n",
        "\n",
        "# 1. Load sample data\n",
        "data = {\n",
        "    \"text\": [\n",
        "        \"Congratulations! You've won a $1000 Walmart gift card. Click to claim.\",\n",
        "        \"Hi, can we meet for lunch tomorrow?\",\n",
        "        \"You have been selected for a prize. Reply to win now!\",\n",
        "        \"Let's schedule a meeting next week to discuss the project.\",\n",
        "        \"Win money by clicking this link!\",\n",
        "        \"Reminder: Your bill is due tomorrow.\",\n",
        "        \"Earn cash fast by working from home!\",\n",
        "        \"Hey, are you coming to the party tonight?\",\n",
        "    ],\n",
        "    \"label\": [1, 0, 1, 0, 1, 0, 1, 0]  # 1=Spam, 0=Not Spam\n",
        "}\n",
        "df = pd.DataFrame(data)\n",
        "\n",
        "# 2. Preprocessing\n",
        "vectorizer = CountVectorizer()\n",
        "X = vectorizer.fit_transform(df[\"text\"]).toarray()\n",
        "y = torch.tensor(df[\"label\"]).float()\n",
        "\n",
        "X_train, X_test, y_train, y_test = train_test_split(X, y, test_size=0.2, random_state=42)\n",
        "X_train_tensor = torch.tensor(X_train).float()\n",
        "X_test_tensor = torch.tensor(X_test).float()\n",
        "\n",
        "# 3. Define simple NN model\n",
        "class SpamClassifier(nn.Module):\n",
        "    def __init__(self, input_dim):\n",
        "        super().__init__()\n",
        "        self.fc = nn.Sequential(\n",
        "            nn.Linear(input_dim, 16),\n",
        "            nn.ReLU(),\n",
        "            nn.Linear(16, 1),\n",
        "            nn.Sigmoid()\n",
        "        )\n",
        "\n",
        "    def forward(self, x):\n",
        "        return self.fc(x)\n",
        "\n",
        "model = SpamClassifier(X.shape[1])\n",
        "criterion = nn.BCELoss()\n",
        "optimizer = optim.Adam(model.parameters(), lr=0.01)\n",
        "\n",
        "# 4. Train the model (quick training)\n",
        "for epoch in range(30):\n",
        "    optimizer.zero_grad()\n",
        "    outputs = model(X_train_tensor).squeeze()\n",
        "    loss = criterion(outputs, y_train)\n",
        "    loss.backward()\n",
        "    optimizer.step()\n",
        "print(f\"Training complete. Final loss: {loss.item():.4f}\")\n",
        "\n",
        "# 5. Predict function\n",
        "def predict_spam(text):\n",
        "    vec = vectorizer.transform([text]).toarray()\n",
        "    tensor_input = torch.tensor(vec).float()\n",
        "    with torch.no_grad():\n",
        "        output = model(tensor_input)\n",
        "        prob = output.item()\n",
        "    return {\"Spam\": prob, \"Not Spam\": 1 - prob}\n",
        "\n",
        "# 6. Gradio interface\n",
        "gr.Interface(\n",
        "    fn=predict_spam,\n",
        "    inputs=gr.Textbox(label=\"Enter Email Text\"),\n",
        "    outputs=gr.Label(num_top_classes=2),\n",
        "    title=\"📧 Simple Spam Detector (NN-based)\",\n",
        "    description=\"A basic deep learning model to detect spam emails.\"\n",
        ").launch(share=True)\n"
      ],
      "metadata": {
        "colab": {
          "base_uri": "https://localhost:8080/",
          "height": 628
        },
        "id": "pk0sFjeNTGqL",
        "outputId": "d5d9c4c5-eaaf-49d9-bedf-ea7e1894f454"
      },
      "execution_count": 2,
      "outputs": [
        {
          "output_type": "stream",
          "name": "stdout",
          "text": [
            "Training complete. Final loss: 0.0331\n",
            "Colab notebook detected. To show errors in colab notebook, set debug=True in launch()\n",
            "* Running on public URL: https://b4dcd2db49647a19b2.gradio.live\n",
            "\n",
            "This share link expires in 1 week. For free permanent hosting and GPU upgrades, run `gradio deploy` from the terminal in the working directory to deploy to Hugging Face Spaces (https://huggingface.co/spaces)\n"
          ]
        },
        {
          "output_type": "display_data",
          "data": {
            "text/plain": [
              "<IPython.core.display.HTML object>"
            ],
            "text/html": [
              "<div><iframe src=\"https://b4dcd2db49647a19b2.gradio.live\" width=\"100%\" height=\"500\" allow=\"autoplay; camera; microphone; clipboard-read; clipboard-write;\" frameborder=\"0\" allowfullscreen></iframe></div>"
            ]
          },
          "metadata": {}
        },
        {
          "output_type": "execute_result",
          "data": {
            "text/plain": []
          },
          "metadata": {},
          "execution_count": 2
        }
      ]
    }
  ]
}